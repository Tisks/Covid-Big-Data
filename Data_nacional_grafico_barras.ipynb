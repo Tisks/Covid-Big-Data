{
  "nbformat": 4,
  "nbformat_minor": 0,
  "metadata": {
    "colab": {
      "name": "Data_nacional_grafico_barras.ipynb",
      "provenance": [],
      "authorship_tag": "ABX9TyMHpvmFtZkg7e2EE/UfTnyY",
      "include_colab_link": true
    },
    "kernelspec": {
      "name": "python3",
      "display_name": "Python 3"
    }
  },
  "cells": [
    {
      "cell_type": "markdown",
      "metadata": {
        "id": "view-in-github",
        "colab_type": "text"
      },
      "source": [
        "<a href=\"https://colab.research.google.com/github/Tisks/Covid-Big-Data/blob/master/Data_nacional_grafico_barras.ipynb\" target=\"_parent\"><img src=\"https://colab.research.google.com/assets/colab-badge.svg\" alt=\"Open In Colab\"/></a>"
      ]
    },
    {
      "cell_type": "code",
      "metadata": {
        "id": "dYwaiJPSZI_-",
        "colab_type": "code",
        "colab": {}
      },
      "source": [
        "import pandas as pd\n",
        "import matplotlib.pyplot as plt\n",
        "import numpy as np"
      ],
      "execution_count": 86,
      "outputs": []
    },
    {
      "cell_type": "code",
      "metadata": {
        "id": "cUGJqLQcZZNQ",
        "colab_type": "code",
        "colab": {}
      },
      "source": [
        "df=pd.read_csv('https://raw.githubusercontent.com/MinCiencia/Datos-COVID19/master/output/producto16/CasosGeneroEtario.csv', sep= ',')"
      ],
      "execution_count": 185,
      "outputs": []
    },
    {
      "cell_type": "code",
      "metadata": {
        "id": "EZxgD4ailxy-",
        "colab_type": "code",
        "colab": {}
      },
      "source": [
        "#Obtener la ultima fecha que tiene el csv\n",
        "Fecha_actual= list(df.columns)[-1]"
      ],
      "execution_count": 186,
      "outputs": []
    },
    {
      "cell_type": "code",
      "metadata": {
        "id": "yPU6Ra0De7i1",
        "colab_type": "code",
        "colab": {}
      },
      "source": [
        "#Generar un Data Frame que saque la informacion segun grupo etario, sexo y la ultima fecha.\n",
        "mip = df[['Grupo de edad', 'Sexo', Fecha_actual]]\n",
        "\n",
        "#Se pueden generar 2 df; con la data de hombres y de mujeres\n",
        "df_F = mip.groupby('Sexo').get_group('F').drop(['Sexo'], axis=1)\n",
        "df_M = mip.groupby('Sexo').get_group('M').drop(['Sexo'], axis=1)\n",
        "m = list(df_M[Fecha_actual])\n",
        "f = list(df_F[Fecha_actual])"
      ],
      "execution_count": 187,
      "outputs": []
    },
    {
      "cell_type": "code",
      "metadata": {
        "id": "3gqoZG8X9QLo",
        "colab_type": "code",
        "colab": {
          "base_uri": "https://localhost:8080/",
          "height": 329
        },
        "outputId": "a30b728f-5f4c-4dc2-9b44-b0be6e350b7b"
      },
      "source": [
        "m"
      ],
      "execution_count": 188,
      "outputs": [
        {
          "output_type": "execute_result",
          "data": {
            "text/plain": [
              "[3792,\n",
              " 3105,\n",
              " 3512,\n",
              " 6059,\n",
              " 15711,\n",
              " 24871,\n",
              " 25428,\n",
              " 20929,\n",
              " 17619,\n",
              " 17240,\n",
              " 16388,\n",
              " 15420,\n",
              " 11553,\n",
              " 7298,\n",
              " 5177,\n",
              " 3528,\n",
              " 4270]"
            ]
          },
          "metadata": {
            "tags": []
          },
          "execution_count": 188
        }
      ]
    },
    {
      "cell_type": "code",
      "metadata": {
        "id": "m1Tyrk4-yS39",
        "colab_type": "code",
        "colab": {
          "base_uri": "https://localhost:8080/",
          "height": 329
        },
        "outputId": "dd655c2a-4def-453d-a365-ec79c9c6517d"
      },
      "source": [
        "f"
      ],
      "execution_count": 189,
      "outputs": [
        {
          "output_type": "execute_result",
          "data": {
            "text/plain": [
              "[3489,\n",
              " 2919,\n",
              " 3635,\n",
              " 6883,\n",
              " 15667,\n",
              " 24349,\n",
              " 22679,\n",
              " 18125,\n",
              " 15352,\n",
              " 16037,\n",
              " 15247,\n",
              " 13828,\n",
              " 9865,\n",
              " 6544,\n",
              " 4943,\n",
              " 3800,\n",
              " 6742]"
            ]
          },
          "metadata": {
            "tags": []
          },
          "execution_count": 189
        }
      ]
    },
    {
      "cell_type": "code",
      "metadata": {
        "id": "r61PXR3RmFJb",
        "colab_type": "code",
        "colab": {
          "base_uri": "https://localhost:8080/",
          "height": 329
        },
        "outputId": "6f58ace4-47df-42eb-b959-0345f4b868d0"
      },
      "source": [
        "categoria = list(mip['Grupo de edad'].drop_duplicates())\n",
        "rango=[]\n",
        "for elem in categoria:\n",
        "  elem = elem.replace(' años','')\n",
        "  rango.append(elem)\n",
        "\n",
        "rango"
      ],
      "execution_count": 190,
      "outputs": [
        {
          "output_type": "execute_result",
          "data": {
            "text/plain": [
              "['00 - 04',\n",
              " '05 - 09',\n",
              " '10 - 14',\n",
              " '15 - 19',\n",
              " '20 - 24',\n",
              " '25 - 29',\n",
              " '30 - 34',\n",
              " '35 - 39',\n",
              " '40 - 44',\n",
              " '45 - 49',\n",
              " '50 - 54',\n",
              " '55 - 59',\n",
              " '60 - 64',\n",
              " '65 - 69',\n",
              " '70 - 74',\n",
              " '75 - 79',\n",
              " '80 y más']"
            ]
          },
          "metadata": {
            "tags": []
          },
          "execution_count": 190
        }
      ]
    },
    {
      "cell_type": "code",
      "metadata": {
        "id": "k9TBXmAU_jx9",
        "colab_type": "code",
        "colab": {
          "base_uri": "https://localhost:8080/",
          "height": 422
        },
        "outputId": "af4d6534-04eb-46ae-981a-7de632af83f5"
      },
      "source": [
        "x = np.arange(17)\n",
        "fig = plt.figure(figsize =(15,5))\n",
        "\n",
        "ax = fig.add_axes([0,0,1,1])\n",
        "\n",
        "\n",
        "ax.bar(x - 0.17, f, color = 'c', width = 0.35)\n",
        "ax.bar(x + 0.17, m, color = 'm', width = 0.35)\n",
        "\n",
        "ax.legend(labels=['Mujeres', 'Hombres'])\n",
        "\n",
        "ax.set_xticks(x)\n",
        "ax.set_xticklabels(rango)\n",
        "ax.set_xlabel('Años')\n",
        "ax.set_ylabel('Cantidad de personas')\n",
        "#ax.bar(rango,f)\n",
        "plt.show()"
      ],
      "execution_count": 191,
      "outputs": [
        {
          "output_type": "display_data",
          "data": {
            "image/png": "[encoded data removed]",
            "text/plain": [
              "<Figure size 1080x360 with 1 Axes>"
            ]
          },
          "metadata": {
            "tags": [],
            "needs_background": "light"
          }
        }
      ]
    },
    {
      "cell_type": "code",
      "metadata": {
        "id": "lhskBaPIGPmh",
        "colab_type": "code",
        "colab": {}
      },
      "source": [
        ""
      ],
      "execution_count": 157,
      "outputs": []
    }
  ]
}